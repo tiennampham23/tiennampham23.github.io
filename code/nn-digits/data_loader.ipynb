{
 "cells": [
  {
   "cell_type": "markdown",
   "metadata": {},
   "source": [
    "# Load MNIST dataset\n",
    "Use `load_mnist()` method to load the dataset.<br>\n",
    "This method will return a tuple of (training_data, validation_data, test_data)\n",
    "\n",
    "**training_data** is a list of 50,000 2-tuples `(x, y)`.<br>\n",
    "`x` is a 784-dimensional numpy.ndarray containing the input image.<br>\n",
    "`y` is a 10-dimensional numpy.ndarray representing the unit vector corresponding to the correct digit for ``x``.\n",
    "\n",
    "**validation_data** and **test_data** are lists containing 10,000 2-tuples `(x, y)`. <br>\n",
    "`x` is a 784-dimensional numpy.ndarry containing the input image.<br>\n",
    "`y` is the corresponding classification, i.e., the digit values (integers) corresponding to ``x``."
   ]
  },
  {
   "cell_type": "code",
   "execution_count": 1,
   "metadata": {},
   "outputs": [],
   "source": [
    "import os\n",
    "import urllib2\n",
    "import cPickle\n",
    "import gzip\n",
    "import numpy as np"
   ]
  },
  {
   "cell_type": "code",
   "execution_count": 2,
   "metadata": {},
   "outputs": [],
   "source": [
    "DATA_PATH = '../.tmp'\n",
    "DATA_FILE = DATA_PATH + '/mnist.pkl.gz'\n",
    "\n",
    "def dl_mnist():\n",
    "    '''\n",
    "    download MNIST dataset\n",
    "    '''\n",
    "    # create DATA dir if not exist\n",
    "    if not os.path.exists(DATA_PATH):\n",
    "        os.makedirs(DATA_PATH)\n",
    "    # download data to DATA dir\n",
    "    url = 'https://github.com/mnielsen/neural-networks-and-deep-learning/raw/master/data/mnist.pkl.gz'\n",
    "    mnist = urllib2.urlopen(url)\n",
    "    with open(DATA_FILE, 'wb') as output:\n",
    "        while True:\n",
    "            data = mnist.read(4096)\n",
    "            if data:\n",
    "                output.write(data)\n",
    "            else:\n",
    "                break\n",
    "        print('Downloaded: ' + DATA_FILE)\n",
    "    \n",
    "def load_mnist():\n",
    "    '''\n",
    "    Load MNIST dataset into:\n",
    "    (1) Training data: 50,000 images\n",
    "    (2) Validation data: 10,000 images\n",
    "    (3) Test data: 10,000 images\n",
    "    \n",
    "    Each image containts (image pixel data, label)\n",
    "    So, data structures is: np.narray( ... (x, y) ... )\n",
    "    While:\n",
    "      * x is images data: np.narray with size of 28*28=784 pixels\n",
    "      * y is labels           : one-hot data for training data, and number for other data\n",
    "    '''\n",
    "    # download Dataset if not exist\n",
    "    if not os.path.exists(DATA_FILE):\n",
    "        dl_mnist()\n",
    "    \n",
    "    # open Dataset\n",
    "    f = gzip.open(DATA_FILE, 'rb')\n",
    "    # pickle Dataset\n",
    "    training_data, validation_data, test_data = cPickle.load(f)\n",
    "    f.close()\n",
    "    \n",
    "    # encode result\n",
    "    # training data\n",
    "    inputs = [x.reshape((784, 1)) for x in training_data[0]]\n",
    "    labels = [vectorized_label(y) for y in training_data[1]]\n",
    "    training_data = zip(inputs, labels)\n",
    "    # validation data\n",
    "    inputs = [np.reshape(x, (784, 1)) for x in validation_data[0]]\n",
    "    validation_data = zip(inputs, validation_data[1])\n",
    "    # test data\n",
    "    inputs = [np.reshape(x, (784, 1)) for x in test_data[0]]\n",
    "    test_data = zip(inputs, test_data[1])\n",
    "\n",
    "    return (training_data, validation_data, test_data)\n",
    "\n",
    "def vectorized_label(label):\n",
    "    '''\n",
    "    One-hot label vector\n",
    "    '''\n",
    "    ret = np.zeros((10, 1))\n",
    "    ret[label] = 1.0\n",
    "    return ret"
   ]
  },
  {
   "cell_type": "code",
   "execution_count": null,
   "metadata": {},
   "outputs": [],
   "source": []
  }
 ],
 "metadata": {
  "kernelspec": {
   "display_name": "Python 2",
   "language": "python",
   "name": "python2"
  },
  "language_info": {
   "codemirror_mode": {
    "name": "ipython",
    "version": 2
   },
   "file_extension": ".py",
   "mimetype": "text/x-python",
   "name": "python",
   "nbconvert_exporter": "python",
   "pygments_lexer": "ipython2",
   "version": "2.7.12"
  }
 },
 "nbformat": 4,
 "nbformat_minor": 2
}
